{
 "cells": [
  {
   "cell_type": "code",
   "execution_count": 2,
   "metadata": {},
   "outputs": [],
   "source": [
    "import base64"
   ]
  },
  {
   "cell_type": "code",
   "execution_count": 3,
   "metadata": {},
   "outputs": [],
   "source": [
    "def convert_image_to_base64(path):\n",
    "    with open(path,'rb') as fin:\n",
    "        image_data=fin.read()\n",
    "        base64_data=base64.b64encode(image_data)\n",
    "        \n",
    "    return base64_data"
   ]
  },
  {
   "cell_type": "code",
   "execution_count": 4,
   "metadata": {},
   "outputs": [],
   "source": [
    "def base64_to_image(bin_image):\n",
    "    ori_image_data=base64.b64decode(bin_image)\n",
    "    \n",
    "    return ori_image_data"
   ]
  },
  {
   "cell_type": "code",
   "execution_count": 5,
   "metadata": {},
   "outputs": [],
   "source": [
    "def save_image(path,file_data):\n",
    "    fount = open(path,'wb')\n",
    "    fount.write(file_data)\n",
    "    fount.close()"
   ]
  },
  {
   "cell_type": "code",
   "execution_count": 16,
   "metadata": {},
   "outputs": [],
   "source": [
    "from pymongo import MongoClient\n",
    "import gridfs"
   ]
  },
  {
   "cell_type": "code",
   "execution_count": 46,
   "metadata": {},
   "outputs": [],
   "source": [
    "db=MongoClient().testdb"
   ]
  },
  {
   "cell_type": "code",
   "execution_count": 47,
   "metadata": {},
   "outputs": [],
   "source": [
    "from os import listdir\n",
    "from os.path import isfile,isdir,join\n",
    "path='/home/user/Desktop/mnist_png/training'\n",
    "files=listdir(path)\n",
    "files.sort()\n",
    "#get total images in file save as list format:dir[[filepath in the layer1 dir],[filepath in the layer2 dir]...]\n",
    "for i in range(len(files)):\n",
    "    fullpath=join(path,files[i])\n",
    "    if isdir(fullpath):\n",
    "        layer2_file=listdir(fullpath)\n",
    "        for f in range(len(layer2_file)):\n",
    "            layer2_file[f]=join(fullpath,layer2_file[f])\n",
    "        files[i]=layer2_file"
   ]
  },
  {
   "cell_type": "code",
   "execution_count": 59,
   "metadata": {},
   "outputs": [],
   "source": [
    "#insert data to mongodb\n",
    "db=MongoClient().testdb\n",
    "\n",
    "for i in range(len(files)):\n",
    "    collection=db.create_collection('training'+str(i))\n",
    "    for j in range(len(files[i])):\n",
    "        base64_img=convert_image_to_base64(files[i][j])\n",
    "        collection.insert_one({'_id':j,'base64':base64_img})"
   ]
  },
  {
   "cell_type": "code",
   "execution_count": 63,
   "metadata": {},
   "outputs": [],
   "source": [
    "model_path='/home/user/TensorFlowOnSpark/mnist_model_old'\n",
    "allfiles=listdir(model_path)\n",
    "filename=join(model_path,allfiles[0])\n",
    "with open(filename,'rb') as fin:\n",
    "    data=fin.read()\n",
    "    base_model=base64.b64encode(data)"
   ]
  },
  {
   "cell_type": "code",
   "execution_count": 64,
   "metadata": {},
   "outputs": [
    {
     "data": {
      "text/plain": [
       "b'AAAGCAEaAggBAAgLVmFyaWFibGUIAxIAKAQ1mz8xeAAFE2hpZF9iCAESBRIDCIABIAQogAQ1reyYFQUIFC9BZGFncmFkCAESBRIDCIABIIQEKIAENeekITkEARp3CAESChIDCJAGEgMIgAEghAgogMAYNSHmchsFCBsvQWRhZ3JhZAgBEgoSAwiQBhIDCIABIITIGCiAwBg14sVTtQAEE3NtX2IIARIEEgIICiCEiDEoKDUU/EbZBAgTL0FkYWdyYWQIARIEEgIICiCsiDEoKDUwzUBfAwEZdwgBEgkSAwiAARICCAog1IgxKIAoNbAHfnUECBkvQWRhZ3JhZAgBEgkSAwiAARICCAog1LAxKIAoNdL83gAAAAAAAQAAAABtYSvIAAAAAAEAAAAAwPKhsAABA3QAngIAAAAAAQAAAACpkWYEowIIsAIPAAAAAAAAAAAAAAAAAAAAAAAAAAAAAAAAAAAAAAAAAAAAAFf7gIskdUfb'"
      ]
     },
     "execution_count": 64,
     "metadata": {},
     "output_type": "execute_result"
    }
   ],
   "source": [
    "base_model"
   ]
  },
  {
   "cell_type": "code",
   "execution_count": 66,
   "metadata": {},
   "outputs": [],
   "source": [
    "collection=db.create_collection('model')\n",
    "for i in range(len(allfiles)):\n",
    "    filename=join(model_path,allfiles[i])\n",
    "    with open(filename,'rb') as fin:\n",
    "        data=fin.read()\n",
    "        base_model=base64.b64encode(data)\n",
    "        \n",
    "    collection.insert_one({'_id':i,'fileName':allfiles[i],'base64':base_model})"
   ]
  },
  {
   "cell_type": "code",
   "execution_count": 61,
   "metadata": {},
   "outputs": [
    {
     "data": {
      "text/plain": [
       "['model.ckpt-496.index',\n",
       " 'model.ckpt-0.index',\n",
       " 'model.ckpt-496.data-00000-of-00001',\n",
       " 'model.ckpt-496.meta',\n",
       " 'model.ckpt-202.meta',\n",
       " 'graph.pbtxt',\n",
       " 'model.ckpt-202.index',\n",
       " 'checkpoint',\n",
       " 'model.ckpt-406.data-00000-of-00001',\n",
       " 'model.ckpt-0.data-00000-of-00001',\n",
       " 'model.ckpt-202.data-00000-of-00001',\n",
       " 'events.out.tfevents.1522335675.master',\n",
       " 'model.ckpt-0.meta',\n",
       " 'model.ckpt-406.meta',\n",
       " 'model.ckpt-406.index']"
      ]
     },
     "execution_count": 61,
     "metadata": {},
     "output_type": "execute_result"
    }
   ],
   "source": [
    "allfiles"
   ]
  }
 ],
 "metadata": {
  "kernelspec": {
   "display_name": "Python 3",
   "language": "python",
   "name": "python3"
  },
  "language_info": {
   "codemirror_mode": {
    "name": "ipython",
    "version": 3
   },
   "file_extension": ".py",
   "mimetype": "text/x-python",
   "name": "python",
   "nbconvert_exporter": "python",
   "pygments_lexer": "ipython3",
   "version": "3.6.4"
  }
 },
 "nbformat": 4,
 "nbformat_minor": 2
}
